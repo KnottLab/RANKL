{
 "cells": [
  {
   "cell_type": "code",
   "execution_count": 1,
   "id": "b77a946a-68a1-492c-bdf4-34cf91725eec",
   "metadata": {},
   "outputs": [],
   "source": [
    "import glob\n",
    "import pandas as pd\n",
    "import anndata \n",
    "import scanpy as sc"
   ]
  },
  {
   "cell_type": "code",
   "execution_count": null,
   "id": "bf24e233-4fd0-4755-af08-15d7db895531",
   "metadata": {},
   "outputs": [],
   "source": []
  },
  {
   "cell_type": "code",
   "execution_count": 2,
   "id": "87c7291a-6603-4629-bad9-64d2372d3dfc",
   "metadata": {},
   "outputs": [],
   "source": [
    "# read acini segmentation for each sample\n",
    "fnlist = glob.glob('../results/dbscan_epi_dapi_cell/*csv')"
   ]
  },
  {
   "cell_type": "code",
   "execution_count": 3,
   "id": "c19daed2-98db-48e3-8031-4f07d76899c6",
   "metadata": {},
   "outputs": [],
   "source": [
    "# read anndata\n",
    "f_adata = '../data/adata.h5ad'\n",
    "adata = sc.read(f_adata)"
   ]
  },
  {
   "cell_type": "code",
   "execution_count": 4,
   "id": "f6960c8c-bceb-4091-bba7-c3406155e79e",
   "metadata": {},
   "outputs": [],
   "source": [
    "# transfer acini segmentation to anndata\n",
    "adata.obs['dapi_mask'] = -1\n",
    "adata.obs['ACTA2_mask'] = -1\n",
    "adata.obs['EPCAM_mask'] = -1\n",
    "\n",
    "adata.obs['acini_luminal'] = -1\n",
    "adata.obs['acini_afterdil'] = -1\n",
    "\n",
    "for fn in fnlist:\n",
    "    df_db = pd.read_csv(fn, index_col=0)\n",
    "    adata.obs.loc[df_db.index, 'dapi_mask'] = df_db['dapi_mask']\n",
    "    adata.obs.loc[df_db.index, 'ACTA2_mask'] = df_db['ACTA2_mask']\n",
    "    adata.obs.loc[df_db.index, 'EPCAM_mask'] = df_db['EPCAM_mask']\n",
    "    \n",
    "    adata.obs.loc[df_db.index, 'acini_luminal'] = df_db['acini_luminal']\n",
    "    adata.obs.loc[df_db.index, 'acini_afterdil'] = df_db['acini_afterdil']\n"
   ]
  },
  {
   "cell_type": "code",
   "execution_count": null,
   "id": "e25d7327-1251-46ef-a639-c3df2dc59b33",
   "metadata": {},
   "outputs": [],
   "source": [
    "# save anndata\n",
    "adata.write('../data/adata_acini.h5ad')"
   ]
  }
 ],
 "metadata": {
  "kernelspec": {
   "display_name": "scvi-env2",
   "language": "python",
   "name": "scvi-env2"
  },
  "language_info": {
   "codemirror_mode": {
    "name": "ipython",
    "version": 3
   },
   "file_extension": ".py",
   "mimetype": "text/x-python",
   "name": "python",
   "nbconvert_exporter": "python",
   "pygments_lexer": "ipython3",
   "version": "3.10.12"
  }
 },
 "nbformat": 4,
 "nbformat_minor": 5
}

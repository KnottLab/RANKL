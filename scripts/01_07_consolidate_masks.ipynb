{
 "cells": [
  {
   "cell_type": "code",
   "execution_count": 1,
   "id": "e636d5b4-add6-4b9e-9168-d6d1623ae1f0",
   "metadata": {},
   "outputs": [],
   "source": [
    "import pandas as pd\n",
    "import anndata\n",
    "\n",
    "import scanpy as sc"
   ]
  },
  {
   "cell_type": "code",
   "execution_count": null,
   "id": "31a23162-57bc-4b78-9f43-494df778fdf5",
   "metadata": {},
   "outputs": [],
   "source": []
  },
  {
   "cell_type": "code",
   "execution_count": 2,
   "id": "c80d4687-6be0-4fa6-ad9d-8ebc6717dd3f",
   "metadata": {},
   "outputs": [],
   "source": [
    "# Read anndata\n",
    "adata = sc.read('../data/adata_acini.h5ad')"
   ]
  },
  {
   "cell_type": "code",
   "execution_count": 3,
   "id": "6ce86f84-2584-4a23-9e4c-9b17f5d6ffdd",
   "metadata": {},
   "outputs": [],
   "source": [
    "# Create columns for spatial bins \n",
    "for ncell in range(4, 21, 4):\n",
    "    new_colnm = 'mask_ncell{}'.format(ncell)\n",
    "    adata.obs[new_colnm] = '-1'"
   ]
  },
  {
   "cell_type": "code",
   "execution_count": 4,
   "id": "7547c765-bf0e-46ad-b960-87623f1351ef",
   "metadata": {},
   "outputs": [],
   "source": [
    "# Transfer spatial bins mask into anndata\n",
    "for sid in adata.obs.Batch.unique():\n",
    "    fn = '../results/dfs_newlyassigned_rescaled2x/adata_cols_expand_{}.csv'.format(sid)\n",
    "    if os.path.isfile(fn):\n",
    "        tmp = pd.read_csv(fn, index_col=0)\n",
    "        tmp = tmp.astype('str')\n",
    "        for cnm in tmp.columns:\n",
    "            adata.obs.loc[tmp.index, cnm] = tmp[cnm]"
   ]
  },
  {
   "cell_type": "code",
   "execution_count": null,
   "id": "21fbc95d-26b3-4f38-b3b6-510b7a07d7a5",
   "metadata": {},
   "outputs": [],
   "source": [
    "# Write anndata\n",
    "adata.write('../data/adata_final.h5ad')"
   ]
  },
  {
   "cell_type": "code",
   "execution_count": null,
   "id": "9d2e3993-e9e6-4594-a2f7-a1ea6ff603e1",
   "metadata": {},
   "outputs": [],
   "source": []
  },
  {
   "cell_type": "code",
   "execution_count": null,
   "id": "d1fafb1f-8020-4db9-ad06-f697cf923bfb",
   "metadata": {},
   "outputs": [],
   "source": [
    "### Consolidate estimated area per mask for each sample"
   ]
  },
  {
   "cell_type": "code",
   "execution_count": 8,
   "id": "222b6b4b-0e8a-4e46-a358-fe17bc13d4f1",
   "metadata": {},
   "outputs": [],
   "source": [
    "df = []\n",
    "for sid in adata.obs.Batch.unique():\n",
    "    fn = '../results/mask_coords_area/lummask_area_{}.csv'.format(sid)\n",
    "    if os.path.isfile(fn):\n",
    "        tmp = pd.read_csv(fn, index_col=0)\n",
    "        tmp = tmp.transpose()\n",
    "        if len(df) == 0:\n",
    "            df = tmp.copy()\n",
    "        else:\n",
    "            df = pd.concat([df, tmp])\n"
   ]
  },
  {
   "cell_type": "code",
   "execution_count": 9,
   "id": "8be9acb7-673d-4db2-a469-d4f2b5bd5a9c",
   "metadata": {},
   "outputs": [],
   "source": [
    "df.columns = ['mask_luminal']"
   ]
  },
  {
   "cell_type": "code",
   "execution_count": 12,
   "id": "2909f8c8-9189-4566-b883-09027c94c098",
   "metadata": {},
   "outputs": [],
   "source": [
    "for d_ncell in range(2, 21, 2):\n",
    "    new_colnm = 'mask_ncell{}'.format(d_ncell)\n",
    "    tmpdf = []\n",
    "    for sid in adata.obs.Batch.unique():\n",
    "        fn = '../results/dfs_newlyassigned_rescaled2x/area_{}_{}.csv'.format(sid, new_colnm)\n",
    "        if os.path.isfile(fn):\n",
    "            tmp = pd.read_csv(fn, index_col=0)\n",
    "            if len(tmpdf) == 0:\n",
    "                tmpdf = 10*tmp.copy()\n",
    "            else:\n",
    "                tmpdf = pd.concat([tmpdf, 10*tmp])\n",
    "    df_area2[new_colnm] = tmpdf[new_colnm]"
   ]
  },
  {
   "cell_type": "code",
   "execution_count": 13,
   "id": "5f4ee2fc-2d5d-4165-8e39-ed51eed0f03d",
   "metadata": {},
   "outputs": [],
   "source": [
    "df_area = df.copy()"
   ]
  },
  {
   "cell_type": "code",
   "execution_count": 14,
   "id": "0d69bba5-bc17-42f0-b409-6bfd9174dbf6",
   "metadata": {},
   "outputs": [],
   "source": [
    "df_area['sid'] = [a.split('s1835')[-1] for a in df_area.index]"
   ]
  },
  {
   "cell_type": "code",
   "execution_count": null,
   "id": "a868144d-197b-49fc-92f1-db47306ffb2e",
   "metadata": {},
   "outputs": [],
   "source": [
    "# save consolidated area\n",
    "df_area.to_csv('../results/area_all.csv')"
   ]
  },
  {
   "cell_type": "code",
   "execution_count": null,
   "id": "4dce4d48-bbd1-44ac-b7de-24cc52752b2d",
   "metadata": {},
   "outputs": [],
   "source": []
  },
  {
   "cell_type": "code",
   "execution_count": null,
   "id": "5900b46b-a419-4c46-a993-d53f9d7cac7a",
   "metadata": {},
   "outputs": [],
   "source": []
  },
  {
   "cell_type": "code",
   "execution_count": null,
   "id": "b80a4827-db7a-416e-bd1e-ef14f5062594",
   "metadata": {},
   "outputs": [],
   "source": []
  },
  {
   "cell_type": "code",
   "execution_count": null,
   "id": "51769b81-0a45-48f0-94ca-ab7b08006ba0",
   "metadata": {},
   "outputs": [],
   "source": []
  },
  {
   "cell_type": "code",
   "execution_count": 7,
   "id": "7230af7d-93a9-47b4-859e-0520949e7a9f",
   "metadata": {},
   "outputs": [],
   "source": []
  },
  {
   "cell_type": "code",
   "execution_count": null,
   "id": "31b38d37-834b-48c1-acd5-9573f9c8be9c",
   "metadata": {},
   "outputs": [],
   "source": []
  },
  {
   "cell_type": "code",
   "execution_count": null,
   "id": "feab9f0b-bb12-48ce-9897-96e856f8ca9f",
   "metadata": {},
   "outputs": [],
   "source": []
  },
  {
   "cell_type": "code",
   "execution_count": null,
   "id": "22da2a0e-cf32-4757-8963-bbe36e907200",
   "metadata": {},
   "outputs": [],
   "source": []
  },
  {
   "cell_type": "code",
   "execution_count": null,
   "id": "5183e4f2-de52-4083-a3db-c9a144a70e25",
   "metadata": {},
   "outputs": [],
   "source": []
  },
  {
   "cell_type": "code",
   "execution_count": null,
   "id": "a4d3792e-6b78-41e6-8388-0e4518461e96",
   "metadata": {},
   "outputs": [],
   "source": []
  },
  {
   "cell_type": "code",
   "execution_count": null,
   "id": "9bdc31bc-2431-45b2-a8e2-c3b8cc2fb197",
   "metadata": {},
   "outputs": [],
   "source": []
  }
 ],
 "metadata": {
  "kernelspec": {
   "display_name": "Python [conda env:scvi-env2]",
   "language": "python",
   "name": "conda-env-scvi-env2-py"
  },
  "language_info": {
   "codemirror_mode": {
    "name": "ipython",
    "version": 3
   },
   "file_extension": ".py",
   "mimetype": "text/x-python",
   "name": "python",
   "nbconvert_exporter": "python",
   "pygments_lexer": "ipython3",
   "version": "3.10.12"
  }
 },
 "nbformat": 4,
 "nbformat_minor": 5
}

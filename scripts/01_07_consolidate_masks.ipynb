{
 "cells": [
  {
   "cell_type": "code",
   "execution_count": 1,
   "id": "e636d5b4-add6-4b9e-9168-d6d1623ae1f0",
   "metadata": {},
   "outputs": [],
   "source": [
    "import pandas as pd\n",
    "import anndata\n",
    "\n",
    "import scanpy as sc"
   ]
  },
  {
   "cell_type": "code",
   "execution_count": null,
   "id": "31a23162-57bc-4b78-9f43-494df778fdf5",
   "metadata": {},
   "outputs": [],
   "source": []
  },
  {
   "cell_type": "code",
   "execution_count": 2,
   "id": "c80d4687-6be0-4fa6-ad9d-8ebc6717dd3f",
   "metadata": {},
   "outputs": [],
   "source": [
    "adata = sc.read('../data/adata_acini.h5ad')"
   ]
  },
  {
   "cell_type": "code",
   "execution_count": 3,
   "id": "6ce86f84-2584-4a23-9e4c-9b17f5d6ffdd",
   "metadata": {},
   "outputs": [],
   "source": [
    "for ncell in range(4, 21, 4):\n",
    "    new_colnm = 'mask_ncell{}'.format(ncell)\n",
    "    adata.obs[new_colnm] = '-1'"
   ]
  },
  {
   "cell_type": "code",
   "execution_count": 4,
   "id": "7547c765-bf0e-46ad-b960-87623f1351ef",
   "metadata": {},
   "outputs": [],
   "source": [
    "for sid in adata.obs.Batch.unique():\n",
    "    fn = '../results/dfs_newlyassigned_rescaled2x/adata_cols_expand_{}.csv'.format(sid)\n",
    "    if os.path.isfile(fn):\n",
    "        tmp = pd.read_csv(fn, index_col=0)\n",
    "        tmp = tmp.astype('str')\n",
    "        for cnm in tmp.columns:\n",
    "            adata.obs.loc[tmp.index, cnm] = tmp[cnm]"
   ]
  },
  {
   "cell_type": "code",
   "execution_count": null,
   "id": "21fbc95d-26b3-4f38-b3b6-510b7a07d7a5",
   "metadata": {},
   "outputs": [],
   "source": [
    "adata"
   ]
  },
  {
   "cell_type": "code",
   "execution_count": null,
   "id": "9d2e3993-e9e6-4594-a2f7-a1ea6ff603e1",
   "metadata": {},
   "outputs": [],
   "source": []
  },
  {
   "cell_type": "code",
   "execution_count": null,
   "id": "23e83763-da9c-4533-a289-47a48cd9dfb1",
   "metadata": {},
   "outputs": [],
   "source": []
  },
  {
   "cell_type": "code",
   "execution_count": null,
   "id": "d3054340-b63a-472f-841c-529fcb3e6388",
   "metadata": {},
   "outputs": [],
   "source": []
  },
  {
   "cell_type": "code",
   "execution_count": 8,
   "id": "222b6b4b-0e8a-4e46-a358-fe17bc13d4f1",
   "metadata": {},
   "outputs": [],
   "source": [
    "df = []\n",
    "for sid in adata.obs.Batch.unique():\n",
    "    fn = '../results/mask_coords_area/lummask_area_{}.csv'.format(sid)\n",
    "    if os.path.isfile(fn):\n",
    "        tmp = pd.read_csv(fn, index_col=0)\n",
    "        tmp = tmp.transpose()\n",
    "        if len(df) == 0:\n",
    "            df = tmp.copy()\n",
    "        else:\n",
    "            df = pd.concat([df, tmp])\n"
   ]
  },
  {
   "cell_type": "code",
   "execution_count": 9,
   "id": "8be9acb7-673d-4db2-a469-d4f2b5bd5a9c",
   "metadata": {},
   "outputs": [],
   "source": [
    "df.columns = ['mask_luminal']"
   ]
  },
  {
   "cell_type": "code",
   "execution_count": 10,
   "id": "db0cbbb7-ffed-4fdd-8c07-6896833b41b0",
   "metadata": {},
   "outputs": [],
   "source": [
    "df_area2 = df.copy()"
   ]
  },
  {
   "cell_type": "code",
   "execution_count": 11,
   "id": "9687552a-c5eb-4f72-bd8b-fbfead329d12",
   "metadata": {},
   "outputs": [],
   "source": [
    "tmpdf = []\n",
    "for sid in adata.obs.Batch.unique():\n",
    "    fn = '../results/dfs_newlyassigned_rescaled2x/area_mask_afterdil_{}.csv'.format(sid)\n",
    "    if os.path.isfile(fn):\n",
    "        tmp = pd.read_csv(fn, index_col=0)\n",
    "        if len(tmpdf) == 0:\n",
    "            tmpdf = tmp.copy()\n",
    "        else:\n",
    "            tmpdf = pd.concat([tmpdf, tmp])\n",
    "df_area2['mask_afterdil'] = tmpdf['mask_afterdil']"
   ]
  },
  {
   "cell_type": "code",
   "execution_count": null,
   "id": "cae5cdad-9c04-49a5-ae3c-ca97ccfc9c0b",
   "metadata": {},
   "outputs": [],
   "source": []
  },
  {
   "cell_type": "code",
   "execution_count": 12,
   "id": "2909f8c8-9189-4566-b883-09027c94c098",
   "metadata": {},
   "outputs": [],
   "source": [
    "for d_ncell in range(2, 21, 2):\n",
    "    new_colnm = 'mask_ncell{}'.format(d_ncell)\n",
    "    tmpdf = []\n",
    "    for sid in adata.obs.Batch.unique():\n",
    "        fn = '/common/yangy4/xenium/tunji_rankl/adatas/dfs_newlyassigned_rescaled2x/area_{}_{}.csv'.format(sid, new_colnm)\n",
    "        if os.path.isfile(fn):\n",
    "            tmp = pd.read_csv(fn, index_col=0)\n",
    "            if len(tmpdf) == 0:\n",
    "                tmpdf = 10*tmp.copy()\n",
    "            else:\n",
    "                tmpdf = pd.concat([tmpdf, 10*tmp])\n",
    "    df_area2[new_colnm] = tmpdf[new_colnm]"
   ]
  },
  {
   "cell_type": "code",
   "execution_count": 13,
   "id": "5f4ee2fc-2d5d-4165-8e39-ed51eed0f03d",
   "metadata": {},
   "outputs": [],
   "source": [
    "df_area = df_area2.copy()"
   ]
  },
  {
   "cell_type": "code",
   "execution_count": 14,
   "id": "0d69bba5-bc17-42f0-b409-6bfd9174dbf6",
   "metadata": {},
   "outputs": [],
   "source": [
    "df_area['sid'] = [a.split('s1835')[-1] for a in df_area.index]"
   ]
  },
  {
   "cell_type": "code",
   "execution_count": null,
   "id": "a868144d-197b-49fc-92f1-db47306ffb2e",
   "metadata": {},
   "outputs": [],
   "source": []
  },
  {
   "cell_type": "code",
   "execution_count": null,
   "id": "4dce4d48-bbd1-44ac-b7de-24cc52752b2d",
   "metadata": {},
   "outputs": [],
   "source": [
    "adata.write('../data/adata_final.h5ad')"
   ]
  },
  {
   "cell_type": "code",
   "execution_count": null,
   "id": "5900b46b-a419-4c46-a993-d53f9d7cac7a",
   "metadata": {},
   "outputs": [],
   "source": []
  },
  {
   "cell_type": "code",
   "execution_count": null,
   "id": "b80a4827-db7a-416e-bd1e-ef14f5062594",
   "metadata": {},
   "outputs": [],
   "source": []
  },
  {
   "cell_type": "code",
   "execution_count": null,
   "id": "51769b81-0a45-48f0-94ca-ab7b08006ba0",
   "metadata": {},
   "outputs": [],
   "source": []
  },
  {
   "cell_type": "code",
   "execution_count": 5,
   "id": "458d4b5d-76b1-4bf2-a56e-7bb14487b234",
   "metadata": {},
   "outputs": [],
   "source": [
    "cnms = ['acini_nodil', 'acini_mask', 'acini_dist4_dist', 'acini_dist4', 'acini_dist8_dist', 'acini_dist8', 'acini_dist12_dist', 'acini_dist12',\n",
    "        'acini_dist16_dist', 'acini_dist16', 'acini_dist20_dist', 'acini_dist20', 'acini_dist24_dist', 'acini_dist24', 'acini_dist28_dist', 'acini_dist28',\n",
    "        'acini_dist32_dist', 'acini_dist32', 'acini_dist36_dist', 'acini_dist36', 'acini_dist40_dist', 'acini_dist40']\n",
    "for c in cnms:\n",
    "    del adata.obs[c]"
   ]
  },
  {
   "cell_type": "code",
   "execution_count": 6,
   "id": "c6eb5f51-3a04-4040-92ea-051ae0578589",
   "metadata": {},
   "outputs": [
    {
     "data": {
      "text/plain": [
       "AnnData object with n_obs × n_vars = 119036 × 380\n",
       "    obs: 'Batch', 'source', 'prediction', 'n_genes', 'doublet_score', 'x_centroid', 'y_centroid', 'z_centroid', 'area', 'x_centroid_px', 'y_centroid_px', 'n_genes_by_counts', 'total_counts', 'leiden_label', 'Type', 'dapi_mask', 'ACTA2_mask', 'EPCAM_mask', 'label_mask', 'PID', 'mask_luminal', 'mask_afterdil', 'mask_ncell2', 'mask_ncell4', 'mask_ncell6', 'mask_ncell8', 'mask_ncell10', 'mask_ncell12', 'mask_ncell14', 'mask_ncell16', 'mask_ncell18', 'mask_ncell20'\n",
       "    var: 'n_cells_by_counts', 'mean_counts', 'pct_dropout_by_counts', 'total_counts', 'mean', 'std'\n",
       "    uns: 'dendrogram_leiden_label', 'leiden', 'log1p', 'neighbors', 'prediction_colors', 'scrublet', 'source_colors', 'umap', 'wilcoxon_leiden'\n",
       "    obsm: 'X_pca', 'X_scANVI', 'X_scANVI_harmony', 'X_umap'\n",
       "    layers: 'counts'\n",
       "    obsp: 'connectivities', 'distances'"
      ]
     },
     "execution_count": 6,
     "metadata": {},
     "output_type": "execute_result"
    }
   ],
   "source": [
    "adata"
   ]
  },
  {
   "cell_type": "code",
   "execution_count": 7,
   "id": "7230af7d-93a9-47b4-859e-0520949e7a9f",
   "metadata": {},
   "outputs": [],
   "source": []
  },
  {
   "cell_type": "code",
   "execution_count": null,
   "id": "31b38d37-834b-48c1-acd5-9573f9c8be9c",
   "metadata": {},
   "outputs": [],
   "source": []
  },
  {
   "cell_type": "code",
   "execution_count": null,
   "id": "feab9f0b-bb12-48ce-9897-96e856f8ca9f",
   "metadata": {},
   "outputs": [],
   "source": []
  },
  {
   "cell_type": "code",
   "execution_count": null,
   "id": "22da2a0e-cf32-4757-8963-bbe36e907200",
   "metadata": {},
   "outputs": [],
   "source": []
  },
  {
   "cell_type": "code",
   "execution_count": null,
   "id": "5183e4f2-de52-4083-a3db-c9a144a70e25",
   "metadata": {},
   "outputs": [],
   "source": []
  },
  {
   "cell_type": "code",
   "execution_count": null,
   "id": "a4d3792e-6b78-41e6-8388-0e4518461e96",
   "metadata": {},
   "outputs": [],
   "source": []
  },
  {
   "cell_type": "code",
   "execution_count": null,
   "id": "9bdc31bc-2431-45b2-a8e2-c3b8cc2fb197",
   "metadata": {},
   "outputs": [],
   "source": []
  }
 ],
 "metadata": {
  "kernelspec": {
   "display_name": "Python [conda env:scvi-env2]",
   "language": "python",
   "name": "conda-env-scvi-env2-py"
  },
  "language_info": {
   "codemirror_mode": {
    "name": "ipython",
    "version": 3
   },
   "file_extension": ".py",
   "mimetype": "text/x-python",
   "name": "python",
   "nbconvert_exporter": "python",
   "pygments_lexer": "ipython3",
   "version": "3.10.12"
  }
 },
 "nbformat": 4,
 "nbformat_minor": 5
}
